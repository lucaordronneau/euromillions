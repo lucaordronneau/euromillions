{
 "cells": [
  {
   "cell_type": "code",
   "execution_count": 2,
   "metadata": {},
   "outputs": [],
   "source": [
    "import pandas as pd\n",
    "import numpy as np\n",
    "import random"
   ]
  },
  {
   "cell_type": "code",
   "execution_count": 3,
   "metadata": {},
   "outputs": [
    {
     "data": {
      "text/html": [
       "<div>\n",
       "<style scoped>\n",
       "    .dataframe tbody tr th:only-of-type {\n",
       "        vertical-align: middle;\n",
       "    }\n",
       "\n",
       "    .dataframe tbody tr th {\n",
       "        vertical-align: top;\n",
       "    }\n",
       "\n",
       "    .dataframe thead th {\n",
       "        text-align: right;\n",
       "    }\n",
       "</style>\n",
       "<table border=\"1\" class=\"dataframe\">\n",
       "  <thead>\n",
       "    <tr style=\"text-align: right;\">\n",
       "      <th></th>\n",
       "      <th>Date</th>\n",
       "      <th>N1</th>\n",
       "      <th>N2</th>\n",
       "      <th>N3</th>\n",
       "      <th>N4</th>\n",
       "      <th>N5</th>\n",
       "      <th>E1</th>\n",
       "      <th>E2</th>\n",
       "      <th>Winner</th>\n",
       "      <th>Gain</th>\n",
       "    </tr>\n",
       "  </thead>\n",
       "  <tbody>\n",
       "    <tr>\n",
       "      <th>0</th>\n",
       "      <td>2004-12-24</td>\n",
       "      <td>3</td>\n",
       "      <td>27</td>\n",
       "      <td>29</td>\n",
       "      <td>4</td>\n",
       "      <td>37</td>\n",
       "      <td>6</td>\n",
       "      <td>5</td>\n",
       "      <td>1</td>\n",
       "      <td>10000000</td>\n",
       "    </tr>\n",
       "    <tr>\n",
       "      <th>1</th>\n",
       "      <td>2004-12-17</td>\n",
       "      <td>49</td>\n",
       "      <td>22</td>\n",
       "      <td>19</td>\n",
       "      <td>15</td>\n",
       "      <td>46</td>\n",
       "      <td>9</td>\n",
       "      <td>2</td>\n",
       "      <td>1</td>\n",
       "      <td>26215627</td>\n",
       "    </tr>\n",
       "    <tr>\n",
       "      <th>2</th>\n",
       "      <td>2004-11-26</td>\n",
       "      <td>24</td>\n",
       "      <td>1</td>\n",
       "      <td>34</td>\n",
       "      <td>4</td>\n",
       "      <td>36</td>\n",
       "      <td>8</td>\n",
       "      <td>6</td>\n",
       "      <td>1</td>\n",
       "      <td>43756502</td>\n",
       "    </tr>\n",
       "    <tr>\n",
       "      <th>3</th>\n",
       "      <td>2004-10-22</td>\n",
       "      <td>9</td>\n",
       "      <td>25</td>\n",
       "      <td>1</td>\n",
       "      <td>40</td>\n",
       "      <td>23</td>\n",
       "      <td>3</td>\n",
       "      <td>9</td>\n",
       "      <td>1</td>\n",
       "      <td>25059130</td>\n",
       "    </tr>\n",
       "    <tr>\n",
       "      <th>4</th>\n",
       "      <td>2004-01-10</td>\n",
       "      <td>48</td>\n",
       "      <td>20</td>\n",
       "      <td>45</td>\n",
       "      <td>21</td>\n",
       "      <td>12</td>\n",
       "      <td>6</td>\n",
       "      <td>5</td>\n",
       "      <td>1</td>\n",
       "      <td>29785269</td>\n",
       "    </tr>\n",
       "  </tbody>\n",
       "</table>\n",
       "</div>"
      ],
      "text/plain": [
       "         Date  N1  N2  N3  N4  N5  E1  E2  Winner      Gain\n",
       "0  2004-12-24   3  27  29   4  37   6   5       1  10000000\n",
       "1  2004-12-17  49  22  19  15  46   9   2       1  26215627\n",
       "2  2004-11-26  24   1  34   4  36   8   6       1  43756502\n",
       "3  2004-10-22   9  25   1  40  23   3   9       1  25059130\n",
       "4  2004-01-10  48  20  45  21  12   6   5       1  29785269"
      ]
     },
     "execution_count": 3,
     "metadata": {},
     "output_type": "execute_result"
    }
   ],
   "source": [
    "df = pd.read_csv(\"../EuroMillions_numbers.csv\", sep=\";\")\n",
    "df.head()"
   ]
  },
  {
   "cell_type": "code",
   "execution_count": null,
   "metadata": {},
   "outputs": [],
   "source": [
    "df_to_add = pd.DataFrame([['2021-01-02', 4, 7, 13, 22, 34, 4, 8, 0, 100000]], columns=list('Date', 'N1','N2','N3','N4','N5','E1','E2','Winner', 'Gain'))"
   ]
  },
  {
   "cell_type": "markdown",
   "metadata": {},
   "source": [
    "## Répartition des numéros"
   ]
  },
  {
   "cell_type": "code",
   "execution_count": 233,
   "metadata": {},
   "outputs": [
    {
     "data": {
      "image/png": "[encoded data removed]",
      "text/plain": [
       "<Figure size 432x288 with 1 Axes>"
      ]
     },
     "metadata": {
      "needs_background": "light"
     },
     "output_type": "display_data"
    }
   ],
   "source": [
    "numeros = df[[\"N1\", \"N2\", \"N3\", \"N4\", \"N5\"]]\n",
    "melt_numeros = numeros.melt(var_name='columns', value_name='numeros')\n",
    "repartition_numeros = melt_numeros.groupby([\"numeros\"]).count()\n",
    "ax = repartition_numeros.plot.bar(y='columns')"
   ]
  },
  {
   "cell_type": "markdown",
   "metadata": {},
   "source": [
    "### Les 5 numéros qui sortent le plus"
   ]
  },
  {
   "cell_type": "code",
   "execution_count": 234,
   "metadata": {},
   "outputs": [
    {
     "data": {
      "text/plain": [
       "numeros\n",
       "23    152\n",
       "44    149\n",
       "17    148\n",
       "19    148\n",
       "50    148\n",
       "Name: columns, dtype: int64"
      ]
     },
     "execution_count": 234,
     "metadata": {},
     "output_type": "execute_result"
    }
   ],
   "source": [
    "repartition_numeros[\"columns\"].nlargest(5)"
   ]
  },
  {
   "cell_type": "markdown",
   "metadata": {},
   "source": [
    "## Répartition des étoiles"
   ]
  },
  {
   "cell_type": "code",
   "execution_count": 235,
   "metadata": {},
   "outputs": [
    {
     "data": {
      "image/png": "[encoded data removed]",
      "text/plain": [
       "<Figure size 432x288 with 1 Axes>"
      ]
     },
     "metadata": {
      "needs_background": "light"
     },
     "output_type": "display_data"
    }
   ],
   "source": [
    "etoiles = df[[\"E1\", \"E2\"]]\n",
    "melt_etoiles = etoiles.melt(var_name='columns', value_name='etoiles')\n",
    "repartition_etoiles = melt_etoiles.groupby([\"etoiles\"]).count()\n",
    "ax = repartition_etoiles.plot.bar(y='columns')"
   ]
  },
  {
   "cell_type": "markdown",
   "metadata": {},
   "source": [
    "### Les 2 numéros étoiles qui sortent le plus"
   ]
  },
  {
   "cell_type": "code",
   "execution_count": 236,
   "metadata": {},
   "outputs": [
    {
     "data": {
      "text/plain": [
       "etoiles\n",
       "2    271\n",
       "3    265\n",
       "Name: columns, dtype: int64"
      ]
     },
     "execution_count": 236,
     "metadata": {},
     "output_type": "execute_result"
    }
   ],
   "source": [
    "repartition_etoiles[\"columns\"].nlargest(2)"
   ]
  },
  {
   "cell_type": "markdown",
   "metadata": {},
   "source": [
    "## Create Data"
   ]
  },
  {
   "cell_type": "code",
   "execution_count": 237,
   "metadata": {},
   "outputs": [],
   "source": [
    "def createRows(tirages, n=4):\n",
    "    tirages_tmp = np.copy(tirages)\n",
    "    l = []\n",
    "    for t in tirages_tmp:\n",
    "        tmp = np.copy(t[:5])\n",
    "        t = np.append(t, [oddEvenPatterns(tmp)], axis=0)\n",
    "        t = np.append(t, [lowHighPatterns(tmp)], axis=0)\n",
    "        t = np.append(t, [1], axis=0)\n",
    "        l.append(t)\n",
    "    tirages_tmp = np.array(l)\n",
    "    \n",
    "    for tirage in tirages:\n",
    "        \n",
    "        array_numeros = tirage[:5]\n",
    "        array_etoiles = tirage[-2:]\n",
    "        \n",
    "        for i in range(n):\n",
    "            numeros_generation = np.random.choice(np.arange(1, 51), replace=False, size=(5,))\n",
    "            while (np.sort(array_numeros) == np.sort(numeros_generation)).all():\n",
    "                numeros_generation = np.random.choice(np.arange(1, 51), replace=False, size=(5,))\n",
    "            \n",
    "            etoiles_generation = np.random.choice(np.arange(1, 13), replace=False, size=(2,))\n",
    "            while (np.sort(array_etoiles) == np.sort(etoiles_generation)).all():\n",
    "                etoiles_generation = np.random.choice(np.arange(1, 13), replace=False, size=(2,))\n",
    "                \n",
    "            row_to_append = np.concatenate((numeros_generation, etoiles_generation), axis=0)\n",
    "            row_to_append = np.concatenate((row_to_append, [oddEvenPatterns(numeros_generation)]), axis=0)\n",
    "            row_to_append = np.concatenate((row_to_append, [lowHighPatterns(numeros_generation)]), axis=0)\n",
    "            row_to_append = np.concatenate((row_to_append, [0]), axis=0)\n",
    "            \n",
    "            tirages_tmp = np.append(tirages_tmp, [row_to_append], axis=0)\n",
    "            \n",
    "    return tirages_tmp"
   ]
  },
  {
   "cell_type": "code",
   "execution_count": 240,
   "metadata": {},
   "outputs": [],
   "source": [
    "tirages = df[[\"N1\", \"N2\", \"N3\", \"N4\", \"N5\", \"E1\", \"E2\"]].to_numpy()\n",
    "tirages = createRows(tirages)"
   ]
  },
  {
   "cell_type": "markdown",
   "metadata": {},
   "source": [
    "## Odd-even Patterns"
   ]
  },
  {
   "cell_type": "code",
   "execution_count": 238,
   "metadata": {},
   "outputs": [],
   "source": [
    "def oddEvenPatterns(t):\n",
    "    nb = sum(1-n%2 for n in t)\n",
    "    if ((nb==1) or (nb==4)):\n",
    "        result = 0.1492618323925310\n",
    "    elif ((nb == 3) or (nb==2)):\n",
    "        result = 0.3256621797655230\n",
    "    else:\n",
    "        result = 0.0250759878419453\n",
    "    return result"
   ]
  },
  {
   "cell_type": "markdown",
   "metadata": {},
   "source": [
    "## Low-High Patterns"
   ]
  },
  {
   "cell_type": "code",
   "execution_count": 239,
   "metadata": {},
   "outputs": [],
   "source": [
    "def lowHighPatterns(t):\n",
    "    nb = sum(n<26 for n in t)\n",
    "    if ((nb==1) or (nb==4)):\n",
    "        result = 0.1492618323925310\n",
    "    elif ((nb == 3) or (nb==2)):\n",
    "        result = 0.3256621797655230\n",
    "    else:\n",
    "        result = 0.0250759878419453\n",
    "    return result"
   ]
  },
  {
   "cell_type": "code",
   "execution_count": null,
   "metadata": {},
   "outputs": [],
   "source": []
  }
 ],
 "metadata": {
  "interpreter": {
   "hash": "fb0d336072c2f6b8411605340b7a9a789bca12c9dca12f037423471d66a6c74b"
  },
  "kernelspec": {
   "display_name": "Python 3.7.12 64-bit ('ia': venv)",
   "language": "python",
   "name": "python3"
  },
  "language_info": {
   "codemirror_mode": {
    "name": "ipython",
    "version": 3
   },
   "file_extension": ".py",
   "mimetype": "text/x-python",
   "name": "python",
   "nbconvert_exporter": "python",
   "pygments_lexer": "ipython3",
   "version": "3.7.12"
  },
  "orig_nbformat": 4
 },
 "nbformat": 4,
 "nbformat_minor": 2
}
