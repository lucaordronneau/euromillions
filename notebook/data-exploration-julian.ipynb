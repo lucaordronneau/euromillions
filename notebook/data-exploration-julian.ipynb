{
 "cells": [
  {
   "cell_type": "code",
   "execution_count": 1,
   "metadata": {},
   "outputs": [],
   "source": [
    "import pandas as pd\n",
    "import numpy as np\n",
    "\n",
    "from sklearn.utils import shuffle\n",
    "from sklearn.model_selection import train_test_split\n",
    "\n",
    "from sklearn.ensemble import RandomForestClassifier\n",
    "from sklearn.svm import SVC\n",
    "\n",
    "from sklearn.metrics import confusion_matrix\n",
    "from sklearn.metrics import f1_score\n",
    "from sklearn.metrics import accuracy_score\n",
    "\n",
    "import pickle"
   ]
  },
  {
   "cell_type": "code",
   "execution_count": 6,
   "metadata": {},
   "outputs": [],
   "source": [
    "data = pd.read_csv(\"../app/src/data/EuroMillions_numbers.csv\", sep = ';')"
   ]
  },
  {
   "cell_type": "code",
   "execution_count": 7,
   "metadata": {},
   "outputs": [
    {
     "data": {
      "text/html": [
       "<div>\n",
       "<style scoped>\n",
       "    .dataframe tbody tr th:only-of-type {\n",
       "        vertical-align: middle;\n",
       "    }\n",
       "\n",
       "    .dataframe tbody tr th {\n",
       "        vertical-align: top;\n",
       "    }\n",
       "\n",
       "    .dataframe thead th {\n",
       "        text-align: right;\n",
       "    }\n",
       "</style>\n",
       "<table border=\"1\" class=\"dataframe\">\n",
       "  <thead>\n",
       "    <tr style=\"text-align: right;\">\n",
       "      <th></th>\n",
       "      <th>Date</th>\n",
       "      <th>N1</th>\n",
       "      <th>N2</th>\n",
       "      <th>N3</th>\n",
       "      <th>N4</th>\n",
       "      <th>N5</th>\n",
       "      <th>E1</th>\n",
       "      <th>E2</th>\n",
       "      <th>Winner</th>\n",
       "      <th>Gain</th>\n",
       "    </tr>\n",
       "  </thead>\n",
       "  <tbody>\n",
       "    <tr>\n",
       "      <th>0</th>\n",
       "      <td>2004-12-24</td>\n",
       "      <td>3</td>\n",
       "      <td>27</td>\n",
       "      <td>29</td>\n",
       "      <td>4</td>\n",
       "      <td>37</td>\n",
       "      <td>6</td>\n",
       "      <td>5</td>\n",
       "      <td>1</td>\n",
       "      <td>10000000</td>\n",
       "    </tr>\n",
       "    <tr>\n",
       "      <th>1</th>\n",
       "      <td>2004-12-17</td>\n",
       "      <td>49</td>\n",
       "      <td>22</td>\n",
       "      <td>19</td>\n",
       "      <td>15</td>\n",
       "      <td>46</td>\n",
       "      <td>9</td>\n",
       "      <td>2</td>\n",
       "      <td>1</td>\n",
       "      <td>26215627</td>\n",
       "    </tr>\n",
       "    <tr>\n",
       "      <th>2</th>\n",
       "      <td>2004-11-26</td>\n",
       "      <td>24</td>\n",
       "      <td>1</td>\n",
       "      <td>34</td>\n",
       "      <td>4</td>\n",
       "      <td>36</td>\n",
       "      <td>8</td>\n",
       "      <td>6</td>\n",
       "      <td>1</td>\n",
       "      <td>43756502</td>\n",
       "    </tr>\n",
       "    <tr>\n",
       "      <th>3</th>\n",
       "      <td>2004-10-22</td>\n",
       "      <td>9</td>\n",
       "      <td>25</td>\n",
       "      <td>1</td>\n",
       "      <td>40</td>\n",
       "      <td>23</td>\n",
       "      <td>3</td>\n",
       "      <td>9</td>\n",
       "      <td>1</td>\n",
       "      <td>25059130</td>\n",
       "    </tr>\n",
       "    <tr>\n",
       "      <th>4</th>\n",
       "      <td>2004-01-10</td>\n",
       "      <td>48</td>\n",
       "      <td>20</td>\n",
       "      <td>45</td>\n",
       "      <td>21</td>\n",
       "      <td>12</td>\n",
       "      <td>6</td>\n",
       "      <td>5</td>\n",
       "      <td>1</td>\n",
       "      <td>29785269</td>\n",
       "    </tr>\n",
       "  </tbody>\n",
       "</table>\n",
       "</div>"
      ],
      "text/plain": [
       "         Date  N1  N2  N3  N4  N5  E1  E2  Winner      Gain\n",
       "0  2004-12-24   3  27  29   4  37   6   5       1  10000000\n",
       "1  2004-12-17  49  22  19  15  46   9   2       1  26215627\n",
       "2  2004-11-26  24   1  34   4  36   8   6       1  43756502\n",
       "3  2004-10-22   9  25   1  40  23   3   9       1  25059130\n",
       "4  2004-01-10  48  20  45  21  12   6   5       1  29785269"
      ]
     },
     "execution_count": 7,
     "metadata": {},
     "output_type": "execute_result"
    }
   ],
   "source": [
    "data.head()"
   ]
  },
  {
   "cell_type": "code",
   "execution_count": 8,
   "metadata": {},
   "outputs": [
    {
     "data": {
      "text/plain": [
       "str"
      ]
     },
     "execution_count": 8,
     "metadata": {},
     "output_type": "execute_result"
    }
   ],
   "source": [
    "type(data['Date'][1])"
   ]
  },
  {
   "cell_type": "code",
   "execution_count": 9,
   "metadata": {},
   "outputs": [
    {
     "data": {
      "text/plain": [
       "<AxesSubplot:xlabel='value'>"
      ]
     },
     "execution_count": 9,
     "metadata": {},
     "output_type": "execute_result"
    },
    {
     "data": {
      "image/png": "[encoded data removed]",
      "text/plain": [
       "<Figure size 432x288 with 1 Axes>"
      ]
     },
     "metadata": {
      "needs_background": "light"
     },
     "output_type": "display_data"
    }
   ],
   "source": [
    "num = data[['N1', 'N2', 'N3', 'N4', 'N5']]\n",
    "num = num.melt()\n",
    "num = num.groupby('value').count()\n",
    "num.plot.bar()"
   ]
  },
  {
   "cell_type": "code",
   "execution_count": 10,
   "metadata": {},
   "outputs": [],
   "source": [
    "def oddEvenPatterns(t):\n",
    "    nb = sum(1-n%2 for n in t)\n",
    "    if ((nb==1) or (nb==4)):\n",
    "        result = 0.1492618323925310\n",
    "    elif ((nb == 3) or (nb==2)):\n",
    "        result = 0.3256621797655230\n",
    "    else:\n",
    "        result = 0.0250759878419453\n",
    "    return result\n",
    "\n",
    "def lowHighPatterns(t):\n",
    "    nb = sum(n<26 for n in t)\n",
    "    if ((nb==1) or (nb==4)):\n",
    "        result = 0.1492618323925310\n",
    "    elif ((nb == 3) or (nb==2)):\n",
    "        result = 0.3256621797655230\n",
    "    else:\n",
    "        result = 0.0250759878419453\n",
    "    return result\n",
    "\n",
    "def createRows(tirages, n=4):\n",
    "    tirages_tmp = np.copy(tirages)\n",
    "    l = []\n",
    "    for t in tirages_tmp:\n",
    "        tmp = np.copy(t[:5])\n",
    "        t = np.append(t, [oddEvenPatterns(tmp)], axis=0)\n",
    "        t = np.append(t, [lowHighPatterns(tmp)], axis=0)\n",
    "        t = np.append(t, [1], axis=0)\n",
    "        l.append(t)\n",
    "    tirages_tmp = np.array(l)\n",
    "    \n",
    "    for tirage in tirages:\n",
    "        \n",
    "        array_numeros = tirage[:5]\n",
    "        array_etoiles = tirage[-2:]\n",
    "        \n",
    "        for i in range(n):\n",
    "            numeros_generation = np.random.choice(np.arange(1, 51), replace=False, size=(5,))\n",
    "            while (np.sort(array_numeros) == np.sort(numeros_generation)).all():\n",
    "                numeros_generation = np.random.choice(np.arange(1, 51), replace=False, size=(5,))\n",
    "            \n",
    "            etoiles_generation = np.random.choice(np.arange(1, 13), replace=False, size=(2,))\n",
    "            while (np.sort(array_etoiles) == np.sort(etoiles_generation)).all():\n",
    "                etoiles_generation = np.random.choice(np.arange(1, 13), replace=False, size=(2,))\n",
    "                \n",
    "            row_to_append = np.concatenate((numeros_generation, etoiles_generation), axis=0)\n",
    "            row_to_append = np.concatenate((row_to_append, [oddEvenPatterns(numeros_generation)]), axis=0)\n",
    "            row_to_append = np.concatenate((row_to_append, [lowHighPatterns(numeros_generation)]), axis=0)\n",
    "            row_to_append = np.concatenate((row_to_append, [0]), axis=0)\n",
    "            \n",
    "            tirages_tmp = np.append(tirages_tmp, [row_to_append], axis=0)\n",
    "            \n",
    "    return tirages_tmp\n",
    "\n",
    "tirages = data[[\"N1\", \"N2\", \"N3\", \"N4\", \"N5\", \"E1\", \"E2\"]].to_numpy()\n",
    "tirages =createRows(tirages, 9)"
   ]
  },
  {
   "cell_type": "code",
   "execution_count": 11,
   "metadata": {},
   "outputs": [],
   "source": [
    "def createRows(tirages, n=4):\n",
    "    tirages_tmp = np.copy(tirages)\n",
    "    l = []\n",
    "    for t in tirages_tmp:\n",
    "        t = np.append(t, [1], axis=0)\n",
    "        l.append(t)\n",
    "    tirages_tmp = np.array(l)\n",
    "    \n",
    "    for tirage in tirages:\n",
    "        \n",
    "        array_numeros = tirage[:5]\n",
    "        array_etoiles = tirage[-2:]\n",
    "        \n",
    "        for i in range(n):\n",
    "            numeros_generation = np.random.choice(np.arange(1, 51), replace=False, size=(5,))\n",
    "            while (np.sort(array_numeros) == np.sort(numeros_generation)).all():\n",
    "                numeros_generation = np.random.choice(np.arange(1, 51), replace=False, size=(5,))\n",
    "            \n",
    "            etoiles_generation = np.random.choice(np.arange(1, 13), replace=False, size=(2,))\n",
    "            while (np.sort(array_etoiles) == np.sort(etoiles_generation)).all():\n",
    "                etoiles_generation = np.random.choice(np.arange(1, 13), replace=False, size=(2,))\n",
    "                \n",
    "            row_to_append = np.concatenate((numeros_generation, etoiles_generation), axis=0)\n",
    "            row_to_append = np.concatenate((row_to_append, [0]), axis=0)\n",
    "            \n",
    "            tirages_tmp = np.append(tirages_tmp, [row_to_append], axis=0)\n",
    "            \n",
    "    return tirages_tmp\n",
    "\n",
    "\n",
    "\n",
    "tirages = data[[\"N1\", \"N2\", \"N3\", \"N4\", \"N5\", \"E1\", \"E2\"]].to_numpy()\n",
    "tirages =createRows(tirages)"
   ]
  },
  {
   "cell_type": "code",
   "execution_count": 12,
   "metadata": {},
   "outputs": [
    {
     "name": "stdout",
     "output_type": "stream",
     "text": [
      "[1 1 1 ... 0 0 0]\n",
      "[0 0 0 ... 0 0 0]\n",
      "[41 10 20 15 49 11  6]\n"
     ]
    }
   ],
   "source": [
    "X = []\n",
    "y = []\n",
    "for i in range(tirages.shape[0]):\n",
    "    X.append((tirages[i][0:-1]).tolist())\n",
    "    y.append(tirages[i][-1].tolist())\n",
    "\n",
    "X = np.array(X)\n",
    "y = np.array(y)\n",
    "print(y)\n",
    "\n",
    "\n",
    "X, y = shuffle(X, y, random_state=0)\n",
    "X_train, X_test, y_train, y_test = train_test_split(X, y, test_size=0.33, random_state=0)\n",
    "\n",
    "print(y_train)\n",
    "print(X_train[0])\n",
    "\n"
   ]
  },
  {
   "cell_type": "code",
   "execution_count": 17,
   "metadata": {},
   "outputs": [
    {
     "name": "stdout",
     "output_type": "stream",
     "text": [
      "(2175, 7)\n",
      "[[1206  536]\n",
      " [ 217  216]]\n",
      "0.3645569620253165\n",
      "0.6537931034482759\n"
     ]
    }
   ],
   "source": [
    "model = SVC(probability=True)\n",
    "model.fit(X_train, y_train)\n",
    "print(X_test.shape)\n",
    "result = model.predict_proba(X_test)\n",
    "\n",
    "res1 = []\n",
    "for i in range(len(y_test)):\n",
    "    if y_test[i] == 1:\n",
    "        res1.append(result[i][1])\n",
    "\n",
    "res1 = np.array(res1)     \n",
    "threshold = np.median(res1)\n",
    "\n",
    "y_pred = []\n",
    "\n",
    "for i in range(len(result)):\n",
    "    if result[i][1] > threshold:\n",
    "        y_pred.append(1)\n",
    "    else:\n",
    "        y_pred.append(0)\n",
    "        \n",
    "print(confusion_matrix(y_test, y_pred))\n",
    "print(f1_score(y_test, y_pred))\n",
    "print(accuracy_score(y_test, y_pred))\n"
   ]
  },
  {
   "cell_type": "code",
   "execution_count": 20,
   "metadata": {},
   "outputs": [
    {
     "name": "stdout",
     "output_type": "stream",
     "text": [
      "0.873779199150703\n"
     ]
    }
   ],
   "source": [
    "print(result[0][0])"
   ]
  },
  {
   "cell_type": "code",
   "execution_count": 10,
   "metadata": {},
   "outputs": [],
   "source": [
    "# save the model to disk\n",
    "filename = 'SVC.sav'\n",
    "pickle.dump(model, open(filename, 'wb'))"
   ]
  },
  {
   "cell_type": "code",
   "execution_count": 13,
   "metadata": {},
   "outputs": [
    {
     "name": "stdout",
     "output_type": "stream",
     "text": [
      "[[2784 1098]\n",
      " [ 234  234]]\n",
      "0.26\n",
      "0.6937931034482758\n"
     ]
    }
   ],
   "source": [
    "# load the model from disk\n",
    "loaded_model = pickle.load(open(filename, 'rb'))\n",
    "result = loaded_model.predict_proba(X_test)\n",
    "\n",
    "res1 = []\n",
    "for i in range(len(y_test)):\n",
    "    if y_test[i] == 1:\n",
    "        res1.append(result[i][1])\n",
    "\n",
    "res1 = np.array(res1)     \n",
    "threshold = np.median(res1)\n",
    "\n",
    "y_pred = []\n",
    "\n",
    "for i in range(len(result)):\n",
    "    if result[i][1] > threshold:\n",
    "        y_pred.append(1)\n",
    "    else:\n",
    "        y_pred.append(0)\n",
    "        \n",
    "print(confusion_matrix(y_test, y_pred))\n",
    "print(f1_score(y_test, y_pred))\n",
    "print(accuracy_score(y_test, y_pred))"
   ]
  },
  {
   "cell_type": "code",
   "execution_count": 299,
   "metadata": {},
   "outputs": [
    {
     "name": "stdout",
     "output_type": "stream",
     "text": [
      "[[2964  918]\n",
      " [ 242  226]]\n",
      "0.2803970223325062\n",
      "0.7333333333333333\n"
     ]
    }
   ],
   "source": [
    "clf=RandomForestClassifier(n_estimators=100)\n",
    "\n",
    "clf.fit(X_train,y_train)\n",
    "result2=clf.predict_proba(X_test)\n",
    "\n",
    "res1 = []\n",
    "for i in range(len(y_test)):\n",
    "    if y_test[i] == 1:\n",
    "        res1.append(result2[i][1])\n",
    "\n",
    "res1 = np.array(res1)\n",
    "threshold = np.median(res1)\n",
    "\n",
    "y_pred = []\n",
    "\n",
    "for i in range(len(result2)):\n",
    "    if result2[i][1] > threshold:\n",
    "        y_pred.append(1)\n",
    "    else:\n",
    "        y_pred.append(0)\n",
    "\n",
    "\n",
    "print(confusion_matrix(y_test, y_pred))\n",
    "print(f1_score(y_test, y_pred))\n",
    "print(accuracy_score(y_test, y_pred))"
   ]
  },
  {
   "cell_type": "code",
   "execution_count": 197,
   "metadata": {},
   "outputs": [],
   "source": [
    "import itertools\n",
    "\n",
    "iterator = np.arange(1,50)\n",
    "\n",
    "a = list(itertools.combinations(iterator, 5))"
   ]
  },
  {
   "cell_type": "code",
   "execution_count": 200,
   "metadata": {},
   "outputs": [
    {
     "name": "stdout",
     "output_type": "stream",
     "text": [
      "1906884\n"
     ]
    }
   ],
   "source": [
    "print(len(a))"
   ]
  }
 ],
 "metadata": {
  "interpreter": {
   "hash": "67d590488caac5c19b931ac72027ce08937efc5169e4d9b24595b3bdd9c50cbb"
  },
  "kernelspec": {
   "display_name": "Python 3.6.9 64-bit ('PythonVirtualEnv': venv)",
   "name": "python3"
  },
  "language_info": {
   "codemirror_mode": {
    "name": "ipython",
    "version": 3
   },
   "file_extension": ".py",
   "mimetype": "text/x-python",
   "name": "python",
   "nbconvert_exporter": "python",
   "pygments_lexer": "ipython3",
   "version": "3.6.9"
  },
  "orig_nbformat": 4
 },
 "nbformat": 4,
 "nbformat_minor": 2
}
